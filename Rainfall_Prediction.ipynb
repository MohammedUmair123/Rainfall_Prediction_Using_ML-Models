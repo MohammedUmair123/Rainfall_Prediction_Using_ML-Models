{
 "cells": [
  {
   "cell_type": "code",
   "execution_count": 51,
   "id": "746b6e05-2f2f-47c7-b85c-6c7bf7e2d06e",
   "metadata": {},
   "outputs": [],
   "source": [
    "import pandas as pd\n",
    "import numpy as np\n",
    "from sklearn.model_selection import train_test_split\n",
    "from sklearn.preprocessing import LabelEncoder, StandardScaler\n",
    "from sklearn.metrics import accuracy_score\n",
    "from sklearn.linear_model import LogisticRegression\n",
    "from sklearn.tree import DecisionTreeClassifier\n",
    "from sklearn.ensemble import RandomForestClassifier, GradientBoostingClassifier\n",
    "from sklearn.svm import SVC\n",
    "from sklearn.neighbors import KNeighborsClassifier\n",
    "from sklearn.impute import SimpleImputer"
   ]
  },
  {
   "cell_type": "code",
   "execution_count": 2,
   "id": "aad10000-5373-45c1-b9f3-7314d827e5f6",
   "metadata": {},
   "outputs": [],
   "source": [
    "data = pd.read_csv(\"Rainfall.csv\")"
   ]
  },
  {
   "cell_type": "code",
   "execution_count": 3,
   "id": "dce6b119-3397-4fd3-a25c-35d4945b8250",
   "metadata": {},
   "outputs": [
    {
     "name": "stdout",
     "output_type": "stream",
     "text": [
      "First 5 rows:\n",
      "    day  pressure   maxtemp  temparature  mintemp  dewpoint  humidity   cloud   \\\n",
      "0    1     1025.9     19.9         18.3     16.8      13.1         72      49   \n",
      "1    2     1022.0     21.7         18.9     17.2      15.6         81      83   \n",
      "2    3     1019.7     20.3         19.3     18.0      18.4         95      91   \n",
      "3    4     1018.9     22.3         20.6     19.1      18.8         90      88   \n",
      "4    5     1015.9     21.3         20.7     20.2      19.9         95      81   \n",
      "\n",
      "  rainfall  sunshine           winddirection  windspeed  \n",
      "0      yes       9.3                    80.0       26.3  \n",
      "1      yes       0.6                    50.0       15.3  \n",
      "2      yes       0.0                    40.0       14.2  \n",
      "3      yes       1.0                    50.0       16.9  \n",
      "4      yes       0.0                    40.0       13.7  \n",
      "\n",
      "Dataset shape: (366, 12)\n",
      "Number of rows: 366\n",
      "Number of columns: 12\n"
     ]
    }
   ],
   "source": [
    "# Display dataset\n",
    "print(\"First 5 rows:\\n\", data.head())\n",
    "print(\"\\nDataset shape:\", data.shape)\n",
    "print(\"Number of rows:\", data.shape[0])\n",
    "print(\"Number of columns:\", data.shape[1])"
   ]
  },
  {
   "cell_type": "code",
   "execution_count": 4,
   "id": "be4f4af8-20c4-4cc5-bc08-5fb2875cf621",
   "metadata": {},
   "outputs": [
    {
     "data": {
      "text/plain": [
       "array([ 1,  2,  3,  4,  5,  6,  7,  8,  9, 10, 11, 12, 13, 14, 15, 16, 17,\n",
       "       18, 19, 20, 21, 22, 23, 24, 25, 26, 27, 28, 29, 30, 31],\n",
       "      dtype=int64)"
      ]
     },
     "execution_count": 4,
     "metadata": {},
     "output_type": "execute_result"
    }
   ],
   "source": [
    "data[\"day\"].unique()"
   ]
  },
  {
   "cell_type": "code",
   "execution_count": 5,
   "id": "48e9a3ba-b108-435e-8a5d-617f7a70e438",
   "metadata": {},
   "outputs": [
    {
     "name": "stdout",
     "output_type": "stream",
     "text": [
      "<class 'pandas.core.frame.DataFrame'>\n",
      "RangeIndex: 366 entries, 0 to 365\n",
      "Data columns (total 12 columns):\n",
      " #   Column                  Non-Null Count  Dtype  \n",
      "---  ------                  --------------  -----  \n",
      " 0   day                     366 non-null    int64  \n",
      " 1   pressure                366 non-null    float64\n",
      " 2   maxtemp                 366 non-null    float64\n",
      " 3   temparature             366 non-null    float64\n",
      " 4   mintemp                 366 non-null    float64\n",
      " 5   dewpoint                366 non-null    float64\n",
      " 6   humidity                366 non-null    int64  \n",
      " 7   cloud                   366 non-null    int64  \n",
      " 8   rainfall                366 non-null    object \n",
      " 9   sunshine                366 non-null    float64\n",
      " 10           winddirection  365 non-null    float64\n",
      " 11  windspeed               365 non-null    float64\n",
      "dtypes: float64(8), int64(3), object(1)\n",
      "memory usage: 34.4+ KB\n",
      "None\n"
     ]
    }
   ],
   "source": [
    "print(data.info())"
   ]
  },
  {
   "cell_type": "code",
   "execution_count": 6,
   "id": "d3421124-4ad8-4bb0-8d41-c8684639699c",
   "metadata": {},
   "outputs": [
    {
     "data": {
      "text/plain": [
       "Index(['day', 'pressure ', 'maxtemp', 'temparature', 'mintemp', 'dewpoint',\n",
       "       'humidity ', 'cloud ', 'rainfall', 'sunshine', '         winddirection',\n",
       "       'windspeed'],\n",
       "      dtype='object')"
      ]
     },
     "execution_count": 6,
     "metadata": {},
     "output_type": "execute_result"
    }
   ],
   "source": [
    "data.columns"
   ]
  },
  {
   "cell_type": "code",
   "execution_count": 7,
   "id": "1dc1326e-7dbf-4ad4-bd4d-001c9f9ba24f",
   "metadata": {},
   "outputs": [],
   "source": [
    "# remove extra  spaces in all columns\n",
    "data.columns = data.columns.str.strip()"
   ]
  },
  {
   "cell_type": "code",
   "execution_count": 8,
   "id": "c4a8ede8-a033-426c-ae94-c1e5901ec5d2",
   "metadata": {},
   "outputs": [
    {
     "data": {
      "text/plain": [
       "Index(['day', 'pressure', 'maxtemp', 'temparature', 'mintemp', 'dewpoint',\n",
       "       'humidity', 'cloud', 'rainfall', 'sunshine', 'winddirection',\n",
       "       'windspeed'],\n",
       "      dtype='object')"
      ]
     },
     "execution_count": 8,
     "metadata": {},
     "output_type": "execute_result"
    }
   ],
   "source": [
    "data.columns"
   ]
  },
  {
   "cell_type": "code",
   "execution_count": 9,
   "id": "93729b06-a7dc-4dc6-9f9b-589d2091c7f6",
   "metadata": {},
   "outputs": [],
   "source": [
    "data = data.drop(columns=[\"day\"])"
   ]
  },
  {
   "cell_type": "code",
   "execution_count": 10,
   "id": "34e4eb8a-84bf-4fbc-a643-239ae57470a1",
   "metadata": {},
   "outputs": [
    {
     "data": {
      "text/html": [
       "<div>\n",
       "<style scoped>\n",
       "    .dataframe tbody tr th:only-of-type {\n",
       "        vertical-align: middle;\n",
       "    }\n",
       "\n",
       "    .dataframe tbody tr th {\n",
       "        vertical-align: top;\n",
       "    }\n",
       "\n",
       "    .dataframe thead th {\n",
       "        text-align: right;\n",
       "    }\n",
       "</style>\n",
       "<table border=\"1\" class=\"dataframe\">\n",
       "  <thead>\n",
       "    <tr style=\"text-align: right;\">\n",
       "      <th></th>\n",
       "      <th>pressure</th>\n",
       "      <th>maxtemp</th>\n",
       "      <th>temparature</th>\n",
       "      <th>mintemp</th>\n",
       "      <th>dewpoint</th>\n",
       "      <th>humidity</th>\n",
       "      <th>cloud</th>\n",
       "      <th>rainfall</th>\n",
       "      <th>sunshine</th>\n",
       "      <th>winddirection</th>\n",
       "      <th>windspeed</th>\n",
       "    </tr>\n",
       "  </thead>\n",
       "  <tbody>\n",
       "    <tr>\n",
       "      <th>0</th>\n",
       "      <td>1025.9</td>\n",
       "      <td>19.9</td>\n",
       "      <td>18.3</td>\n",
       "      <td>16.8</td>\n",
       "      <td>13.1</td>\n",
       "      <td>72</td>\n",
       "      <td>49</td>\n",
       "      <td>yes</td>\n",
       "      <td>9.3</td>\n",
       "      <td>80.0</td>\n",
       "      <td>26.3</td>\n",
       "    </tr>\n",
       "    <tr>\n",
       "      <th>1</th>\n",
       "      <td>1022.0</td>\n",
       "      <td>21.7</td>\n",
       "      <td>18.9</td>\n",
       "      <td>17.2</td>\n",
       "      <td>15.6</td>\n",
       "      <td>81</td>\n",
       "      <td>83</td>\n",
       "      <td>yes</td>\n",
       "      <td>0.6</td>\n",
       "      <td>50.0</td>\n",
       "      <td>15.3</td>\n",
       "    </tr>\n",
       "    <tr>\n",
       "      <th>2</th>\n",
       "      <td>1019.7</td>\n",
       "      <td>20.3</td>\n",
       "      <td>19.3</td>\n",
       "      <td>18.0</td>\n",
       "      <td>18.4</td>\n",
       "      <td>95</td>\n",
       "      <td>91</td>\n",
       "      <td>yes</td>\n",
       "      <td>0.0</td>\n",
       "      <td>40.0</td>\n",
       "      <td>14.2</td>\n",
       "    </tr>\n",
       "    <tr>\n",
       "      <th>3</th>\n",
       "      <td>1018.9</td>\n",
       "      <td>22.3</td>\n",
       "      <td>20.6</td>\n",
       "      <td>19.1</td>\n",
       "      <td>18.8</td>\n",
       "      <td>90</td>\n",
       "      <td>88</td>\n",
       "      <td>yes</td>\n",
       "      <td>1.0</td>\n",
       "      <td>50.0</td>\n",
       "      <td>16.9</td>\n",
       "    </tr>\n",
       "    <tr>\n",
       "      <th>4</th>\n",
       "      <td>1015.9</td>\n",
       "      <td>21.3</td>\n",
       "      <td>20.7</td>\n",
       "      <td>20.2</td>\n",
       "      <td>19.9</td>\n",
       "      <td>95</td>\n",
       "      <td>81</td>\n",
       "      <td>yes</td>\n",
       "      <td>0.0</td>\n",
       "      <td>40.0</td>\n",
       "      <td>13.7</td>\n",
       "    </tr>\n",
       "  </tbody>\n",
       "</table>\n",
       "</div>"
      ],
      "text/plain": [
       "   pressure  maxtemp  temparature  mintemp  dewpoint  humidity  cloud  \\\n",
       "0    1025.9     19.9         18.3     16.8      13.1        72     49   \n",
       "1    1022.0     21.7         18.9     17.2      15.6        81     83   \n",
       "2    1019.7     20.3         19.3     18.0      18.4        95     91   \n",
       "3    1018.9     22.3         20.6     19.1      18.8        90     88   \n",
       "4    1015.9     21.3         20.7     20.2      19.9        95     81   \n",
       "\n",
       "  rainfall  sunshine  winddirection  windspeed  \n",
       "0      yes       9.3           80.0       26.3  \n",
       "1      yes       0.6           50.0       15.3  \n",
       "2      yes       0.0           40.0       14.2  \n",
       "3      yes       1.0           50.0       16.9  \n",
       "4      yes       0.0           40.0       13.7  "
      ]
     },
     "execution_count": 10,
     "metadata": {},
     "output_type": "execute_result"
    }
   ],
   "source": [
    "data.head()"
   ]
  },
  {
   "cell_type": "code",
   "execution_count": 11,
   "id": "04dfb124-114b-4e0a-ad88-e349736849bf",
   "metadata": {},
   "outputs": [],
   "source": [
    "# handle missing values\n",
    "data[\"winddirection\"] = data[\"winddirection\"].fillna(data[\"winddirection\"].mode()[0])\n",
    "data[\"windspeed\"] = data[\"windspeed\"].fillna(data[\"windspeed\"].median())"
   ]
  },
  {
   "cell_type": "code",
   "execution_count": 12,
   "id": "fdc3b4e4-43fd-4809-8469-471d8bb1d9c7",
   "metadata": {},
   "outputs": [
    {
     "name": "stdout",
     "output_type": "stream",
     "text": [
      "pressure         0\n",
      "maxtemp          0\n",
      "temparature      0\n",
      "mintemp          0\n",
      "dewpoint         0\n",
      "humidity         0\n",
      "cloud            0\n",
      "rainfall         0\n",
      "sunshine         0\n",
      "winddirection    0\n",
      "windspeed        0\n",
      "dtype: int64\n"
     ]
    }
   ],
   "source": [
    "# checking the number of missing values\n",
    "print(data.isnull().sum())"
   ]
  },
  {
   "cell_type": "code",
   "execution_count": 13,
   "id": "3639e3f7-dadc-497c-a24c-a20e67186275",
   "metadata": {},
   "outputs": [
    {
     "data": {
      "text/plain": [
       "array(['yes', 'no'], dtype=object)"
      ]
     },
     "execution_count": 13,
     "metadata": {},
     "output_type": "execute_result"
    }
   ],
   "source": [
    "data[\"rainfall\"].unique()"
   ]
  },
  {
   "cell_type": "code",
   "execution_count": 14,
   "id": "72e1c27d-1715-43d6-88e2-0a120d7ef4b6",
   "metadata": {},
   "outputs": [],
   "source": [
    "# converting the yes & no to 1 and 0 respectively\n",
    "data[\"rainfall\"] = data[\"rainfall\"].map({\"yes\": 1, \"no\": 0})"
   ]
  },
  {
   "cell_type": "code",
   "execution_count": 15,
   "id": "5cee4977-2a46-4cf9-bfb5-5496e65a4c0b",
   "metadata": {},
   "outputs": [
    {
     "data": {
      "text/html": [
       "<div>\n",
       "<style scoped>\n",
       "    .dataframe tbody tr th:only-of-type {\n",
       "        vertical-align: middle;\n",
       "    }\n",
       "\n",
       "    .dataframe tbody tr th {\n",
       "        vertical-align: top;\n",
       "    }\n",
       "\n",
       "    .dataframe thead th {\n",
       "        text-align: right;\n",
       "    }\n",
       "</style>\n",
       "<table border=\"1\" class=\"dataframe\">\n",
       "  <thead>\n",
       "    <tr style=\"text-align: right;\">\n",
       "      <th></th>\n",
       "      <th>pressure</th>\n",
       "      <th>maxtemp</th>\n",
       "      <th>temparature</th>\n",
       "      <th>mintemp</th>\n",
       "      <th>dewpoint</th>\n",
       "      <th>humidity</th>\n",
       "      <th>cloud</th>\n",
       "      <th>rainfall</th>\n",
       "      <th>sunshine</th>\n",
       "      <th>winddirection</th>\n",
       "      <th>windspeed</th>\n",
       "    </tr>\n",
       "  </thead>\n",
       "  <tbody>\n",
       "    <tr>\n",
       "      <th>0</th>\n",
       "      <td>1025.9</td>\n",
       "      <td>19.9</td>\n",
       "      <td>18.3</td>\n",
       "      <td>16.8</td>\n",
       "      <td>13.1</td>\n",
       "      <td>72</td>\n",
       "      <td>49</td>\n",
       "      <td>1</td>\n",
       "      <td>9.3</td>\n",
       "      <td>80.0</td>\n",
       "      <td>26.3</td>\n",
       "    </tr>\n",
       "    <tr>\n",
       "      <th>1</th>\n",
       "      <td>1022.0</td>\n",
       "      <td>21.7</td>\n",
       "      <td>18.9</td>\n",
       "      <td>17.2</td>\n",
       "      <td>15.6</td>\n",
       "      <td>81</td>\n",
       "      <td>83</td>\n",
       "      <td>1</td>\n",
       "      <td>0.6</td>\n",
       "      <td>50.0</td>\n",
       "      <td>15.3</td>\n",
       "    </tr>\n",
       "    <tr>\n",
       "      <th>2</th>\n",
       "      <td>1019.7</td>\n",
       "      <td>20.3</td>\n",
       "      <td>19.3</td>\n",
       "      <td>18.0</td>\n",
       "      <td>18.4</td>\n",
       "      <td>95</td>\n",
       "      <td>91</td>\n",
       "      <td>1</td>\n",
       "      <td>0.0</td>\n",
       "      <td>40.0</td>\n",
       "      <td>14.2</td>\n",
       "    </tr>\n",
       "    <tr>\n",
       "      <th>3</th>\n",
       "      <td>1018.9</td>\n",
       "      <td>22.3</td>\n",
       "      <td>20.6</td>\n",
       "      <td>19.1</td>\n",
       "      <td>18.8</td>\n",
       "      <td>90</td>\n",
       "      <td>88</td>\n",
       "      <td>1</td>\n",
       "      <td>1.0</td>\n",
       "      <td>50.0</td>\n",
       "      <td>16.9</td>\n",
       "    </tr>\n",
       "    <tr>\n",
       "      <th>4</th>\n",
       "      <td>1015.9</td>\n",
       "      <td>21.3</td>\n",
       "      <td>20.7</td>\n",
       "      <td>20.2</td>\n",
       "      <td>19.9</td>\n",
       "      <td>95</td>\n",
       "      <td>81</td>\n",
       "      <td>1</td>\n",
       "      <td>0.0</td>\n",
       "      <td>40.0</td>\n",
       "      <td>13.7</td>\n",
       "    </tr>\n",
       "  </tbody>\n",
       "</table>\n",
       "</div>"
      ],
      "text/plain": [
       "   pressure  maxtemp  temparature  mintemp  dewpoint  humidity  cloud  \\\n",
       "0    1025.9     19.9         18.3     16.8      13.1        72     49   \n",
       "1    1022.0     21.7         18.9     17.2      15.6        81     83   \n",
       "2    1019.7     20.3         19.3     18.0      18.4        95     91   \n",
       "3    1018.9     22.3         20.6     19.1      18.8        90     88   \n",
       "4    1015.9     21.3         20.7     20.2      19.9        95     81   \n",
       "\n",
       "   rainfall  sunshine  winddirection  windspeed  \n",
       "0         1       9.3           80.0       26.3  \n",
       "1         1       0.6           50.0       15.3  \n",
       "2         1       0.0           40.0       14.2  \n",
       "3         1       1.0           50.0       16.9  \n",
       "4         1       0.0           40.0       13.7  "
      ]
     },
     "execution_count": 15,
     "metadata": {},
     "output_type": "execute_result"
    }
   ],
   "source": [
    "data.head()"
   ]
  },
  {
   "cell_type": "code",
   "execution_count": 16,
   "id": "ac52303a-c5a9-44d4-854b-edb3fb2471c7",
   "metadata": {},
   "outputs": [
    {
     "data": {
      "text/plain": [
       "(366, 11)"
      ]
     },
     "execution_count": 16,
     "metadata": {},
     "output_type": "execute_result"
    }
   ],
   "source": [
    "data.shape"
   ]
  },
  {
   "cell_type": "code",
   "execution_count": 17,
   "id": "f4279a46-61bc-4068-be7f-7b2b8a36b0ad",
   "metadata": {},
   "outputs": [
    {
     "data": {
      "text/html": [
       "<div>\n",
       "<style scoped>\n",
       "    .dataframe tbody tr th:only-of-type {\n",
       "        vertical-align: middle;\n",
       "    }\n",
       "\n",
       "    .dataframe tbody tr th {\n",
       "        vertical-align: top;\n",
       "    }\n",
       "\n",
       "    .dataframe thead th {\n",
       "        text-align: right;\n",
       "    }\n",
       "</style>\n",
       "<table border=\"1\" class=\"dataframe\">\n",
       "  <thead>\n",
       "    <tr style=\"text-align: right;\">\n",
       "      <th></th>\n",
       "      <th>pressure</th>\n",
       "      <th>maxtemp</th>\n",
       "      <th>temparature</th>\n",
       "      <th>mintemp</th>\n",
       "      <th>dewpoint</th>\n",
       "      <th>humidity</th>\n",
       "      <th>cloud</th>\n",
       "      <th>rainfall</th>\n",
       "      <th>sunshine</th>\n",
       "      <th>winddirection</th>\n",
       "      <th>windspeed</th>\n",
       "    </tr>\n",
       "  </thead>\n",
       "  <tbody>\n",
       "    <tr>\n",
       "      <th>count</th>\n",
       "      <td>366.000000</td>\n",
       "      <td>366.000000</td>\n",
       "      <td>366.000000</td>\n",
       "      <td>366.000000</td>\n",
       "      <td>366.000000</td>\n",
       "      <td>366.000000</td>\n",
       "      <td>366.000000</td>\n",
       "      <td>366.000000</td>\n",
       "      <td>366.000000</td>\n",
       "      <td>366.000000</td>\n",
       "      <td>366.000000</td>\n",
       "    </tr>\n",
       "    <tr>\n",
       "      <th>mean</th>\n",
       "      <td>1013.742623</td>\n",
       "      <td>26.191257</td>\n",
       "      <td>23.747268</td>\n",
       "      <td>21.894536</td>\n",
       "      <td>19.989071</td>\n",
       "      <td>80.177596</td>\n",
       "      <td>71.128415</td>\n",
       "      <td>0.680328</td>\n",
       "      <td>4.419399</td>\n",
       "      <td>101.284153</td>\n",
       "      <td>21.534153</td>\n",
       "    </tr>\n",
       "    <tr>\n",
       "      <th>std</th>\n",
       "      <td>6.414776</td>\n",
       "      <td>5.978343</td>\n",
       "      <td>5.632813</td>\n",
       "      <td>5.594153</td>\n",
       "      <td>5.997021</td>\n",
       "      <td>10.062470</td>\n",
       "      <td>21.798012</td>\n",
       "      <td>0.466988</td>\n",
       "      <td>3.934398</td>\n",
       "      <td>81.722827</td>\n",
       "      <td>10.056054</td>\n",
       "    </tr>\n",
       "    <tr>\n",
       "      <th>min</th>\n",
       "      <td>998.500000</td>\n",
       "      <td>7.100000</td>\n",
       "      <td>4.900000</td>\n",
       "      <td>3.100000</td>\n",
       "      <td>-0.400000</td>\n",
       "      <td>36.000000</td>\n",
       "      <td>0.000000</td>\n",
       "      <td>0.000000</td>\n",
       "      <td>0.000000</td>\n",
       "      <td>10.000000</td>\n",
       "      <td>4.400000</td>\n",
       "    </tr>\n",
       "    <tr>\n",
       "      <th>25%</th>\n",
       "      <td>1008.500000</td>\n",
       "      <td>21.200000</td>\n",
       "      <td>18.825000</td>\n",
       "      <td>17.125000</td>\n",
       "      <td>16.125000</td>\n",
       "      <td>75.000000</td>\n",
       "      <td>58.000000</td>\n",
       "      <td>0.000000</td>\n",
       "      <td>0.500000</td>\n",
       "      <td>40.000000</td>\n",
       "      <td>13.725000</td>\n",
       "    </tr>\n",
       "    <tr>\n",
       "      <th>50%</th>\n",
       "      <td>1013.000000</td>\n",
       "      <td>27.750000</td>\n",
       "      <td>25.450000</td>\n",
       "      <td>23.700000</td>\n",
       "      <td>21.950000</td>\n",
       "      <td>80.500000</td>\n",
       "      <td>80.000000</td>\n",
       "      <td>1.000000</td>\n",
       "      <td>3.500000</td>\n",
       "      <td>70.000000</td>\n",
       "      <td>20.500000</td>\n",
       "    </tr>\n",
       "    <tr>\n",
       "      <th>75%</th>\n",
       "      <td>1018.100000</td>\n",
       "      <td>31.200000</td>\n",
       "      <td>28.600000</td>\n",
       "      <td>26.575000</td>\n",
       "      <td>25.000000</td>\n",
       "      <td>87.000000</td>\n",
       "      <td>88.000000</td>\n",
       "      <td>1.000000</td>\n",
       "      <td>8.200000</td>\n",
       "      <td>190.000000</td>\n",
       "      <td>27.825000</td>\n",
       "    </tr>\n",
       "    <tr>\n",
       "      <th>max</th>\n",
       "      <td>1034.600000</td>\n",
       "      <td>36.300000</td>\n",
       "      <td>32.400000</td>\n",
       "      <td>30.000000</td>\n",
       "      <td>26.700000</td>\n",
       "      <td>98.000000</td>\n",
       "      <td>100.000000</td>\n",
       "      <td>1.000000</td>\n",
       "      <td>12.100000</td>\n",
       "      <td>350.000000</td>\n",
       "      <td>59.500000</td>\n",
       "    </tr>\n",
       "  </tbody>\n",
       "</table>\n",
       "</div>"
      ],
      "text/plain": [
       "          pressure     maxtemp  temparature     mintemp    dewpoint  \\\n",
       "count   366.000000  366.000000   366.000000  366.000000  366.000000   \n",
       "mean   1013.742623   26.191257    23.747268   21.894536   19.989071   \n",
       "std       6.414776    5.978343     5.632813    5.594153    5.997021   \n",
       "min     998.500000    7.100000     4.900000    3.100000   -0.400000   \n",
       "25%    1008.500000   21.200000    18.825000   17.125000   16.125000   \n",
       "50%    1013.000000   27.750000    25.450000   23.700000   21.950000   \n",
       "75%    1018.100000   31.200000    28.600000   26.575000   25.000000   \n",
       "max    1034.600000   36.300000    32.400000   30.000000   26.700000   \n",
       "\n",
       "         humidity       cloud    rainfall    sunshine  winddirection  \\\n",
       "count  366.000000  366.000000  366.000000  366.000000     366.000000   \n",
       "mean    80.177596   71.128415    0.680328    4.419399     101.284153   \n",
       "std     10.062470   21.798012    0.466988    3.934398      81.722827   \n",
       "min     36.000000    0.000000    0.000000    0.000000      10.000000   \n",
       "25%     75.000000   58.000000    0.000000    0.500000      40.000000   \n",
       "50%     80.500000   80.000000    1.000000    3.500000      70.000000   \n",
       "75%     87.000000   88.000000    1.000000    8.200000     190.000000   \n",
       "max     98.000000  100.000000    1.000000   12.100000     350.000000   \n",
       "\n",
       "        windspeed  \n",
       "count  366.000000  \n",
       "mean    21.534153  \n",
       "std     10.056054  \n",
       "min      4.400000  \n",
       "25%     13.725000  \n",
       "50%     20.500000  \n",
       "75%     27.825000  \n",
       "max     59.500000  "
      ]
     },
     "execution_count": 17,
     "metadata": {},
     "output_type": "execute_result"
    }
   ],
   "source": [
    "data.describe()"
   ]
  },
  {
   "cell_type": "code",
   "execution_count": 20,
   "id": "30483bc9-bf2e-4483-a98e-7b1cda5d2c02",
   "metadata": {},
   "outputs": [
    {
     "data": {
      "image/png": "[encoded data removed]",
      "text/plain": [
       "<Figure size 600x400 with 1 Axes>"
      ]
     },
     "metadata": {},
     "output_type": "display_data"
    }
   ],
   "source": [
    "import matplotlib.pyplot as plt\n",
    "import seaborn as sns\n",
    "plt.figure(figsize=(6, 4))\n",
    "sns.countplot(x=\"rainfall\", data=data)\n",
    "plt.title(\"Distribution of Rainfall\")\n",
    "plt.show()"
   ]
  },
  {
   "cell_type": "code",
   "execution_count": 28,
   "id": "af328409-96bc-4d7d-bff4-7e6b07de4060",
   "metadata": {},
   "outputs": [
    {
     "data": {
      "image/png": "[encoded data removed]",
      "text/plain": [
       "<Figure size 1000x800 with 2 Axes>"
      ]
     },
     "metadata": {},
     "output_type": "display_data"
    }
   ],
   "source": [
    "# correlation matrix\n",
    "plt.figure(figsize=(10, 8))\n",
    "sns.heatmap(data.corr(), annot=True, cmap=\"coolwarm\", fmt=\".2f\")\n",
    "plt.title(\"Correlation heatmap\")\n",
    "plt.show()"
   ]
  },
  {
   "cell_type": "code",
   "execution_count": 29,
   "id": "3cbc6f6c-18ea-4e0f-888b-a0cdcc53e948",
   "metadata": {},
   "outputs": [],
   "source": [
    "# drop highly correlated column\n",
    "data = data.drop(columns=['maxtemp', 'temparature', 'mintemp'])"
   ]
  },
  {
   "cell_type": "code",
   "execution_count": 30,
   "id": "932ffa08-1d09-4457-9e6b-c2d225c4fe65",
   "metadata": {},
   "outputs": [
    {
     "data": {
      "text/html": [
       "<div>\n",
       "<style scoped>\n",
       "    .dataframe tbody tr th:only-of-type {\n",
       "        vertical-align: middle;\n",
       "    }\n",
       "\n",
       "    .dataframe tbody tr th {\n",
       "        vertical-align: top;\n",
       "    }\n",
       "\n",
       "    .dataframe thead th {\n",
       "        text-align: right;\n",
       "    }\n",
       "</style>\n",
       "<table border=\"1\" class=\"dataframe\">\n",
       "  <thead>\n",
       "    <tr style=\"text-align: right;\">\n",
       "      <th></th>\n",
       "      <th>pressure</th>\n",
       "      <th>dewpoint</th>\n",
       "      <th>humidity</th>\n",
       "      <th>cloud</th>\n",
       "      <th>rainfall</th>\n",
       "      <th>sunshine</th>\n",
       "      <th>winddirection</th>\n",
       "      <th>windspeed</th>\n",
       "    </tr>\n",
       "  </thead>\n",
       "  <tbody>\n",
       "    <tr>\n",
       "      <th>0</th>\n",
       "      <td>1025.9</td>\n",
       "      <td>13.1</td>\n",
       "      <td>72</td>\n",
       "      <td>49</td>\n",
       "      <td>1</td>\n",
       "      <td>9.3</td>\n",
       "      <td>80.0</td>\n",
       "      <td>26.3</td>\n",
       "    </tr>\n",
       "    <tr>\n",
       "      <th>1</th>\n",
       "      <td>1022.0</td>\n",
       "      <td>15.6</td>\n",
       "      <td>81</td>\n",
       "      <td>83</td>\n",
       "      <td>1</td>\n",
       "      <td>0.6</td>\n",
       "      <td>50.0</td>\n",
       "      <td>15.3</td>\n",
       "    </tr>\n",
       "    <tr>\n",
       "      <th>2</th>\n",
       "      <td>1019.7</td>\n",
       "      <td>18.4</td>\n",
       "      <td>95</td>\n",
       "      <td>91</td>\n",
       "      <td>1</td>\n",
       "      <td>0.0</td>\n",
       "      <td>40.0</td>\n",
       "      <td>14.2</td>\n",
       "    </tr>\n",
       "    <tr>\n",
       "      <th>3</th>\n",
       "      <td>1018.9</td>\n",
       "      <td>18.8</td>\n",
       "      <td>90</td>\n",
       "      <td>88</td>\n",
       "      <td>1</td>\n",
       "      <td>1.0</td>\n",
       "      <td>50.0</td>\n",
       "      <td>16.9</td>\n",
       "    </tr>\n",
       "    <tr>\n",
       "      <th>4</th>\n",
       "      <td>1015.9</td>\n",
       "      <td>19.9</td>\n",
       "      <td>95</td>\n",
       "      <td>81</td>\n",
       "      <td>1</td>\n",
       "      <td>0.0</td>\n",
       "      <td>40.0</td>\n",
       "      <td>13.7</td>\n",
       "    </tr>\n",
       "  </tbody>\n",
       "</table>\n",
       "</div>"
      ],
      "text/plain": [
       "   pressure  dewpoint  humidity  cloud  rainfall  sunshine  winddirection  \\\n",
       "0    1025.9      13.1        72     49         1       9.3           80.0   \n",
       "1    1022.0      15.6        81     83         1       0.6           50.0   \n",
       "2    1019.7      18.4        95     91         1       0.0           40.0   \n",
       "3    1018.9      18.8        90     88         1       1.0           50.0   \n",
       "4    1015.9      19.9        95     81         1       0.0           40.0   \n",
       "\n",
       "   windspeed  \n",
       "0       26.3  \n",
       "1       15.3  \n",
       "2       14.2  \n",
       "3       16.9  \n",
       "4       13.7  "
      ]
     },
     "execution_count": 30,
     "metadata": {},
     "output_type": "execute_result"
    }
   ],
   "source": [
    "data.head()"
   ]
  },
  {
   "cell_type": "code",
   "execution_count": 31,
   "id": "f24fa440-1d2d-4565-b6fb-9dcc004d76b9",
   "metadata": {},
   "outputs": [],
   "source": [
    "# separate majority and minority class\n",
    "df_majority = data[data[\"rainfall\"] == 1]\n",
    "df_minority = data[data[\"rainfall\"] == 0]"
   ]
  },
  {
   "cell_type": "code",
   "execution_count": 32,
   "id": "5219beff-ac7d-46bb-8cf0-0b5b1739e1d7",
   "metadata": {},
   "outputs": [
    {
     "name": "stdout",
     "output_type": "stream",
     "text": [
      "(249, 8)\n",
      "(117, 8)\n"
     ]
    }
   ],
   "source": [
    "print(df_majority.shape)\n",
    "print(df_minority.shape)"
   ]
  },
  {
   "cell_type": "code",
   "execution_count": 34,
   "id": "f2a66192-ada1-4024-ad72-6e274ce196cd",
   "metadata": {},
   "outputs": [],
   "source": [
    "# downsample majority class to match minority count\n",
    "from sklearn.utils import resample\n",
    "df_majority_downsampled = resample(df_majority, replace=False, n_samples=len(df_minority), random_state=42)"
   ]
  },
  {
   "cell_type": "code",
   "execution_count": 35,
   "id": "d51205f1-484a-4879-9bc0-9570b8f1d0ed",
   "metadata": {},
   "outputs": [
    {
     "data": {
      "text/plain": [
       "(117, 8)"
      ]
     },
     "execution_count": 35,
     "metadata": {},
     "output_type": "execute_result"
    }
   ],
   "source": [
    "df_majority_downsampled.shape"
   ]
  },
  {
   "cell_type": "code",
   "execution_count": 36,
   "id": "616c9d74-3aa8-4a11-bb18-6057fe8efa30",
   "metadata": {},
   "outputs": [],
   "source": [
    "df_downsampled = pd.concat([df_majority_downsampled, df_minority])"
   ]
  },
  {
   "cell_type": "code",
   "execution_count": 37,
   "id": "86993cd6-3aca-4e70-96e7-e401c594a937",
   "metadata": {},
   "outputs": [
    {
     "data": {
      "text/plain": [
       "(234, 8)"
      ]
     },
     "execution_count": 37,
     "metadata": {},
     "output_type": "execute_result"
    }
   ],
   "source": [
    "df_downsampled.shape"
   ]
  },
  {
   "cell_type": "code",
   "execution_count": 38,
   "id": "8e3dbe49-b018-499e-ac48-f804d8c10029",
   "metadata": {},
   "outputs": [
    {
     "data": {
      "text/html": [
       "<div>\n",
       "<style scoped>\n",
       "    .dataframe tbody tr th:only-of-type {\n",
       "        vertical-align: middle;\n",
       "    }\n",
       "\n",
       "    .dataframe tbody tr th {\n",
       "        vertical-align: top;\n",
       "    }\n",
       "\n",
       "    .dataframe thead th {\n",
       "        text-align: right;\n",
       "    }\n",
       "</style>\n",
       "<table border=\"1\" class=\"dataframe\">\n",
       "  <thead>\n",
       "    <tr style=\"text-align: right;\">\n",
       "      <th></th>\n",
       "      <th>pressure</th>\n",
       "      <th>dewpoint</th>\n",
       "      <th>humidity</th>\n",
       "      <th>cloud</th>\n",
       "      <th>rainfall</th>\n",
       "      <th>sunshine</th>\n",
       "      <th>winddirection</th>\n",
       "      <th>windspeed</th>\n",
       "    </tr>\n",
       "  </thead>\n",
       "  <tbody>\n",
       "    <tr>\n",
       "      <th>188</th>\n",
       "      <td>1005.9</td>\n",
       "      <td>25.6</td>\n",
       "      <td>77</td>\n",
       "      <td>53</td>\n",
       "      <td>1</td>\n",
       "      <td>10.5</td>\n",
       "      <td>270.0</td>\n",
       "      <td>11.3</td>\n",
       "    </tr>\n",
       "    <tr>\n",
       "      <th>9</th>\n",
       "      <td>1017.5</td>\n",
       "      <td>15.5</td>\n",
       "      <td>85</td>\n",
       "      <td>91</td>\n",
       "      <td>1</td>\n",
       "      <td>0.0</td>\n",
       "      <td>70.0</td>\n",
       "      <td>37.7</td>\n",
       "    </tr>\n",
       "    <tr>\n",
       "      <th>137</th>\n",
       "      <td>1012.3</td>\n",
       "      <td>20.1</td>\n",
       "      <td>80</td>\n",
       "      <td>86</td>\n",
       "      <td>1</td>\n",
       "      <td>0.3</td>\n",
       "      <td>80.0</td>\n",
       "      <td>39.5</td>\n",
       "    </tr>\n",
       "    <tr>\n",
       "      <th>89</th>\n",
       "      <td>1018.3</td>\n",
       "      <td>16.3</td>\n",
       "      <td>79</td>\n",
       "      <td>89</td>\n",
       "      <td>1</td>\n",
       "      <td>2.4</td>\n",
       "      <td>40.0</td>\n",
       "      <td>14.8</td>\n",
       "    </tr>\n",
       "    <tr>\n",
       "      <th>157</th>\n",
       "      <td>1008.8</td>\n",
       "      <td>24.7</td>\n",
       "      <td>91</td>\n",
       "      <td>80</td>\n",
       "      <td>1</td>\n",
       "      <td>2.2</td>\n",
       "      <td>20.0</td>\n",
       "      <td>11.2</td>\n",
       "    </tr>\n",
       "  </tbody>\n",
       "</table>\n",
       "</div>"
      ],
      "text/plain": [
       "     pressure  dewpoint  humidity  cloud  rainfall  sunshine  winddirection  \\\n",
       "188    1005.9      25.6        77     53         1      10.5          270.0   \n",
       "9      1017.5      15.5        85     91         1       0.0           70.0   \n",
       "137    1012.3      20.1        80     86         1       0.3           80.0   \n",
       "89     1018.3      16.3        79     89         1       2.4           40.0   \n",
       "157    1008.8      24.7        91     80         1       2.2           20.0   \n",
       "\n",
       "     windspeed  \n",
       "188       11.3  \n",
       "9         37.7  \n",
       "137       39.5  \n",
       "89        14.8  \n",
       "157       11.2  "
      ]
     },
     "execution_count": 38,
     "metadata": {},
     "output_type": "execute_result"
    }
   ],
   "source": [
    "df_downsampled.head()"
   ]
  },
  {
   "cell_type": "code",
   "execution_count": 39,
   "id": "8210ec75-e781-4c46-b118-161f1668f51f",
   "metadata": {},
   "outputs": [],
   "source": [
    "# shuffle the final dataframe\n",
    "df_downsampled = df_downsampled.sample(frac=1, random_state=42).reset_index(drop=True)"
   ]
  },
  {
   "cell_type": "code",
   "execution_count": 40,
   "id": "95c833e4-4865-4855-9767-ce6630d098af",
   "metadata": {},
   "outputs": [
    {
     "data": {
      "text/html": [
       "<div>\n",
       "<style scoped>\n",
       "    .dataframe tbody tr th:only-of-type {\n",
       "        vertical-align: middle;\n",
       "    }\n",
       "\n",
       "    .dataframe tbody tr th {\n",
       "        vertical-align: top;\n",
       "    }\n",
       "\n",
       "    .dataframe thead th {\n",
       "        text-align: right;\n",
       "    }\n",
       "</style>\n",
       "<table border=\"1\" class=\"dataframe\">\n",
       "  <thead>\n",
       "    <tr style=\"text-align: right;\">\n",
       "      <th></th>\n",
       "      <th>pressure</th>\n",
       "      <th>dewpoint</th>\n",
       "      <th>humidity</th>\n",
       "      <th>cloud</th>\n",
       "      <th>rainfall</th>\n",
       "      <th>sunshine</th>\n",
       "      <th>winddirection</th>\n",
       "      <th>windspeed</th>\n",
       "    </tr>\n",
       "  </thead>\n",
       "  <tbody>\n",
       "    <tr>\n",
       "      <th>0</th>\n",
       "      <td>1022.2</td>\n",
       "      <td>14.1</td>\n",
       "      <td>78</td>\n",
       "      <td>90</td>\n",
       "      <td>1</td>\n",
       "      <td>0.0</td>\n",
       "      <td>30.0</td>\n",
       "      <td>28.5</td>\n",
       "    </tr>\n",
       "    <tr>\n",
       "      <th>1</th>\n",
       "      <td>1013.4</td>\n",
       "      <td>19.5</td>\n",
       "      <td>69</td>\n",
       "      <td>17</td>\n",
       "      <td>0</td>\n",
       "      <td>10.5</td>\n",
       "      <td>70.0</td>\n",
       "      <td>12.4</td>\n",
       "    </tr>\n",
       "    <tr>\n",
       "      <th>2</th>\n",
       "      <td>1006.1</td>\n",
       "      <td>24.4</td>\n",
       "      <td>74</td>\n",
       "      <td>27</td>\n",
       "      <td>0</td>\n",
       "      <td>10.8</td>\n",
       "      <td>220.0</td>\n",
       "      <td>8.7</td>\n",
       "    </tr>\n",
       "    <tr>\n",
       "      <th>3</th>\n",
       "      <td>1007.6</td>\n",
       "      <td>24.8</td>\n",
       "      <td>85</td>\n",
       "      <td>84</td>\n",
       "      <td>1</td>\n",
       "      <td>1.8</td>\n",
       "      <td>70.0</td>\n",
       "      <td>34.8</td>\n",
       "    </tr>\n",
       "    <tr>\n",
       "      <th>4</th>\n",
       "      <td>1021.2</td>\n",
       "      <td>8.4</td>\n",
       "      <td>66</td>\n",
       "      <td>18</td>\n",
       "      <td>0</td>\n",
       "      <td>10.1</td>\n",
       "      <td>20.0</td>\n",
       "      <td>24.4</td>\n",
       "    </tr>\n",
       "  </tbody>\n",
       "</table>\n",
       "</div>"
      ],
      "text/plain": [
       "   pressure  dewpoint  humidity  cloud  rainfall  sunshine  winddirection  \\\n",
       "0    1022.2      14.1        78     90         1       0.0           30.0   \n",
       "1    1013.4      19.5        69     17         0      10.5           70.0   \n",
       "2    1006.1      24.4        74     27         0      10.8          220.0   \n",
       "3    1007.6      24.8        85     84         1       1.8           70.0   \n",
       "4    1021.2       8.4        66     18         0      10.1           20.0   \n",
       "\n",
       "   windspeed  \n",
       "0       28.5  \n",
       "1       12.4  \n",
       "2        8.7  \n",
       "3       34.8  \n",
       "4       24.4  "
      ]
     },
     "execution_count": 40,
     "metadata": {},
     "output_type": "execute_result"
    }
   ],
   "source": [
    "df_downsampled.head()"
   ]
  },
  {
   "cell_type": "code",
   "execution_count": 41,
   "id": "cfb1b71e-d740-48c9-813b-b2eacc6c6383",
   "metadata": {},
   "outputs": [
    {
     "data": {
      "text/plain": [
       "rainfall\n",
       "1    117\n",
       "0    117\n",
       "Name: count, dtype: int64"
      ]
     },
     "execution_count": 41,
     "metadata": {},
     "output_type": "execute_result"
    }
   ],
   "source": [
    "df_downsampled[\"rainfall\"].value_counts()"
   ]
  },
  {
   "cell_type": "code",
   "execution_count": 42,
   "id": "e61afab8-2146-4e3a-920a-41ac2c849dc2",
   "metadata": {},
   "outputs": [],
   "source": [
    "# split features and target as X and y\n",
    "X = df_downsampled.drop(columns=[\"rainfall\"])\n",
    "y = df_downsampled[\"rainfall\"]"
   ]
  },
  {
   "cell_type": "code",
   "execution_count": 43,
   "id": "d0d95f63-adfa-4c71-9838-8af33f99e7d9",
   "metadata": {},
   "outputs": [],
   "source": [
    "# splitting the data into training data and test data\n",
    "X_train, X_test, y_train, y_test = train_test_split(X, y, test_size=0.2, random_state=42)"
   ]
  },
  {
   "cell_type": "code",
   "execution_count": 44,
   "id": "ede9ee12-f9c0-400a-8f38-2bc481b5519d",
   "metadata": {},
   "outputs": [],
   "source": [
    "models = {\n",
    "    \"Logistic Regression\": LogisticRegression(max_iter=1000),\n",
    "    \"Decision Tree\": DecisionTreeClassifier(),\n",
    "    \"Random Forest\": RandomForestClassifier(),\n",
    "    \"Gradient Boosting\": GradientBoostingClassifier(),\n",
    "    \"Support Vector Machine\": SVC(),\n",
    "    \"K-Nearest Neighbors\": KNeighborsClassifier()\n",
    "}"
   ]
  },
  {
   "cell_type": "code",
   "execution_count": 45,
   "id": "3bf32989-87f0-408d-a47a-3c89f547b968",
   "metadata": {},
   "outputs": [
    {
     "name": "stdout",
     "output_type": "stream",
     "text": [
      "\n",
      "Logistic Regression:\n",
      "  Training Accuracy: 0.83\n",
      "  Testing Accuracy:  0.68\n",
      "\n",
      "Decision Tree:\n",
      "  Training Accuracy: 1.00\n",
      "  Testing Accuracy:  0.66\n",
      "\n",
      "Random Forest:\n",
      "  Training Accuracy: 1.00\n",
      "  Testing Accuracy:  0.77\n",
      "\n",
      "Gradient Boosting:\n",
      "  Training Accuracy: 0.99\n",
      "  Testing Accuracy:  0.70\n",
      "\n",
      "Support Vector Machine:\n",
      "  Training Accuracy: 0.50\n",
      "  Testing Accuracy:  0.49\n",
      "\n",
      "K-Nearest Neighbors:\n",
      "  Training Accuracy: 0.83\n",
      "  Testing Accuracy:  0.72\n"
     ]
    }
   ],
   "source": [
    "for name, model in models.items():\n",
    "    try:\n",
    "        model.fit(X_train, y_train)\n",
    "        train_pred = model.predict(X_train)\n",
    "        test_pred = model.predict(X_test)\n",
    "\n",
    "        train_acc = accuracy_score(y_train, train_pred)\n",
    "        test_acc = accuracy_score(y_test, test_pred)\n",
    "\n",
    "        print(f\"\\n{name}:\")\n",
    "        print(f\"  Training Accuracy: {train_acc:.2f}\")\n",
    "        print(f\"  Testing Accuracy:  {test_acc:.2f}\")\n",
    "\n",
    "    except Exception as e:\n",
    "        print(f\"\\n{name} failed: {str(e)}\")"
   ]
  },
  {
   "cell_type": "code",
   "execution_count": 47,
   "id": "dc53aa00-42ae-476e-aa0b-cfb0bf5de306",
   "metadata": {},
   "outputs": [],
   "source": [
    "input_data = (1015.9, 19.9, 95, 81, 0.0, 40.0, 13.7)\n",
    "\n",
    "input_df = pd.DataFrame([input_data], columns=['pressure', 'dewpoint', 'humidity', 'cloud', 'sunshine','winddirection', 'windspeed'])"
   ]
  },
  {
   "cell_type": "code",
   "execution_count": 48,
   "id": "1de472af-cb1c-45cb-905a-ee89bfbf8579",
   "metadata": {},
   "outputs": [
    {
     "name": "stdout",
     "output_type": "stream",
     "text": [
      "Logistic Regression Prediction: Rainfall (Yes)\n",
      "Decision Tree Prediction: Rainfall (Yes)\n",
      "Random Forest Prediction: Rainfall (Yes)\n",
      "Gradient Boosting Prediction: Rainfall (Yes)\n",
      "Support Vector Machine Prediction: Rainfall (Yes)\n",
      "K-Nearest Neighbors Prediction: Rainfall (Yes)\n"
     ]
    }
   ],
   "source": [
    "import pandas as pd\n",
    "\n",
    "# Your test input\n",
    "input_data = (1015.9, 19.9, 95, 81, 0.0, 40.0, 13.7)\n",
    "\n",
    "# Put into DataFrame with correct columns\n",
    "input_df = pd.DataFrame([input_data], columns=[\n",
    "    'pressure', 'dewpoint', 'humidity', 'cloud', 'sunshine', 'winddirection', 'windspeed'\n",
    "])\n",
    "\n",
    "\n",
    "# Test across all trained models\n",
    "for name, model in models.items():\n",
    "    prediction = model.predict(input_df)\n",
    "    print(f\"{name} Prediction: {'Rainfall (Yes)' if prediction[0]==1 else 'No Rainfall'}\")\n"
   ]
  },
  {
   "cell_type": "code",
   "execution_count": null,
   "id": "545eed4c-1618-458d-9f5a-aa1ffe16beef",
   "metadata": {},
   "outputs": [],
   "source": [
    "#The best performed model on the gievn dataset is Randomforest!!"
   ]
  }
 ],
 "metadata": {
  "kernelspec": {
   "display_name": "Python 3 (ipykernel)",
   "language": "python",
   "name": "python3"
  },
  "language_info": {
   "codemirror_mode": {
    "name": "ipython",
    "version": 3
   },
   "file_extension": ".py",
   "mimetype": "text/x-python",
   "name": "python",
   "nbconvert_exporter": "python",
   "pygments_lexer": "ipython3",
   "version": "3.12.7"
  }
 },
 "nbformat": 4,
 "nbformat_minor": 5
}
